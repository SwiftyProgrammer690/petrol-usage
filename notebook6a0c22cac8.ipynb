{
 "cells": [
  {
   "cell_type": "markdown",
   "id": "8f9e389c",
   "metadata": {
    "papermill": {
     "duration": 0.00429,
     "end_time": "2022-07-18T00:30:43.244623",
     "exception": false,
     "start_time": "2022-07-18T00:30:43.240333",
     "status": "completed"
    },
    "tags": []
   },
   "source": [
    "# Libraries\n",
    "import required libraries"
   ]
  },
  {
   "cell_type": "code",
   "execution_count": 1,
   "id": "656f7693",
   "metadata": {
    "execution": {
     "iopub.execute_input": "2022-07-18T00:30:43.254736Z",
     "iopub.status.busy": "2022-07-18T00:30:43.253749Z",
     "iopub.status.idle": "2022-07-18T00:30:43.268732Z",
     "shell.execute_reply": "2022-07-18T00:30:43.267829Z"
    },
    "papermill": {
     "duration": 0.022776,
     "end_time": "2022-07-18T00:30:43.271347",
     "exception": false,
     "start_time": "2022-07-18T00:30:43.248571",
     "status": "completed"
    },
    "tags": []
   },
   "outputs": [],
   "source": [
    "import pandas as pd\n",
    "import numpy as np"
   ]
  },
  {
   "cell_type": "markdown",
   "id": "c9054e73",
   "metadata": {
    "papermill": {
     "duration": 0.003036,
     "end_time": "2022-07-18T00:30:43.277631",
     "exception": false,
     "start_time": "2022-07-18T00:30:43.274595",
     "status": "completed"
    },
    "tags": []
   },
   "source": [
    "# Retrieve Data\n",
    "Retrieve data from dataset: `petrolgas-prices-worldwide` on kaggle\n",
    "Display some data just for good measure!"
   ]
  },
  {
   "cell_type": "code",
   "execution_count": 2,
   "id": "9cdadbf8",
   "metadata": {
    "execution": {
     "iopub.execute_input": "2022-07-18T00:30:43.285718Z",
     "iopub.status.busy": "2022-07-18T00:30:43.284982Z",
     "iopub.status.idle": "2022-07-18T00:30:43.327442Z",
     "shell.execute_reply": "2022-07-18T00:30:43.326270Z"
    },
    "papermill": {
     "duration": 0.050131,
     "end_time": "2022-07-18T00:30:43.330722",
     "exception": false,
     "start_time": "2022-07-18T00:30:43.280591",
     "status": "completed"
    },
    "tags": []
   },
   "outputs": [
    {
     "name": "stdout",
     "output_type": "stream",
     "text": [
      "<class 'pandas.core.frame.DataFrame'>\n",
      "Int64Index: 181 entries, 1 to 181\n",
      "Data columns (total 10 columns):\n",
      " #   Column                                Non-Null Count  Dtype  \n",
      "---  ------                                --------------  -----  \n",
      " 0   Country                               181 non-null    object \n",
      " 1   Daily Oil Consumption (Barrels)       181 non-null    object \n",
      " 2   World Share                           181 non-null    object \n",
      " 3   Yearly Gallons Per Capita             181 non-null    float64\n",
      " 4   Price Per Gallon (USD)                181 non-null    float64\n",
      " 5   Price Per Liter (USD)                 181 non-null    float64\n",
      " 6   Price Per Liter (PKR)                 181 non-null    float64\n",
      " 7   GDP Per Capita ( USD )                181 non-null    object \n",
      " 8   Gallons GDP Per Capita Can Buy        181 non-null    object \n",
      " 9   xTimes Yearly Gallons Per Capita Buy  181 non-null    int64  \n",
      "dtypes: float64(4), int64(1), object(5)\n",
      "memory usage: 15.6+ KB\n"
     ]
    }
   ],
   "source": [
    "data = pd.read_csv(\"../input/petrolgas-prices-worldwide/Petrol Dataset June 23 2022 -- Version 2.csv\", index_col='S#', encoding='latin-1')\n",
    "data.info()"
   ]
  },
  {
   "cell_type": "code",
   "execution_count": 3,
   "id": "5c44d0b6",
   "metadata": {
    "execution": {
     "iopub.execute_input": "2022-07-18T00:30:43.340300Z",
     "iopub.status.busy": "2022-07-18T00:30:43.339311Z",
     "iopub.status.idle": "2022-07-18T00:30:43.364849Z",
     "shell.execute_reply": "2022-07-18T00:30:43.363700Z"
    },
    "papermill": {
     "duration": 0.032493,
     "end_time": "2022-07-18T00:30:43.367405",
     "exception": false,
     "start_time": "2022-07-18T00:30:43.334912",
     "status": "completed"
    },
    "tags": []
   },
   "outputs": [
    {
     "data": {
      "text/html": [
       "<div>\n",
       "<style scoped>\n",
       "    .dataframe tbody tr th:only-of-type {\n",
       "        vertical-align: middle;\n",
       "    }\n",
       "\n",
       "    .dataframe tbody tr th {\n",
       "        vertical-align: top;\n",
       "    }\n",
       "\n",
       "    .dataframe thead th {\n",
       "        text-align: right;\n",
       "    }\n",
       "</style>\n",
       "<table border=\"1\" class=\"dataframe\">\n",
       "  <thead>\n",
       "    <tr style=\"text-align: right;\">\n",
       "      <th></th>\n",
       "      <th>Country</th>\n",
       "      <th>Daily Oil Consumption (Barrels)</th>\n",
       "      <th>World Share</th>\n",
       "      <th>Yearly Gallons Per Capita</th>\n",
       "      <th>Price Per Gallon (USD)</th>\n",
       "      <th>Price Per Liter (USD)</th>\n",
       "      <th>Price Per Liter (PKR)</th>\n",
       "      <th>GDP Per Capita ( USD )</th>\n",
       "      <th>Gallons GDP Per Capita Can Buy</th>\n",
       "      <th>xTimes Yearly Gallons Per Capita Buy</th>\n",
       "    </tr>\n",
       "    <tr>\n",
       "      <th>S#</th>\n",
       "      <th></th>\n",
       "      <th></th>\n",
       "      <th></th>\n",
       "      <th></th>\n",
       "      <th></th>\n",
       "      <th></th>\n",
       "      <th></th>\n",
       "      <th></th>\n",
       "      <th></th>\n",
       "      <th></th>\n",
       "    </tr>\n",
       "  </thead>\n",
       "  <tbody>\n",
       "    <tr>\n",
       "      <th>1</th>\n",
       "      <td>United States</td>\n",
       "      <td>19,687,287</td>\n",
       "      <td>20%</td>\n",
       "      <td>934.3</td>\n",
       "      <td>5.19</td>\n",
       "      <td>1.37</td>\n",
       "      <td>289.97</td>\n",
       "      <td>63,414</td>\n",
       "      <td>12,218</td>\n",
       "      <td>13</td>\n",
       "    </tr>\n",
       "    <tr>\n",
       "      <th>2</th>\n",
       "      <td>China</td>\n",
       "      <td>12,791,553</td>\n",
       "      <td>13%</td>\n",
       "      <td>138.7</td>\n",
       "      <td>5.42</td>\n",
       "      <td>1.43</td>\n",
       "      <td>302.87</td>\n",
       "      <td>10,435</td>\n",
       "      <td>1,925</td>\n",
       "      <td>14</td>\n",
       "    </tr>\n",
       "    <tr>\n",
       "      <th>3</th>\n",
       "      <td>India</td>\n",
       "      <td>4,443,000</td>\n",
       "      <td>5%</td>\n",
       "      <td>51.4</td>\n",
       "      <td>5.05</td>\n",
       "      <td>1.33</td>\n",
       "      <td>281.93</td>\n",
       "      <td>1,901</td>\n",
       "      <td>376</td>\n",
       "      <td>7</td>\n",
       "    </tr>\n",
       "    <tr>\n",
       "      <th>4</th>\n",
       "      <td>Japan</td>\n",
       "      <td>4,012,877</td>\n",
       "      <td>4%</td>\n",
       "      <td>481.5</td>\n",
       "      <td>4.69</td>\n",
       "      <td>1.24</td>\n",
       "      <td>262.05</td>\n",
       "      <td>40,193</td>\n",
       "      <td>8,570</td>\n",
       "      <td>18</td>\n",
       "    </tr>\n",
       "    <tr>\n",
       "      <th>5</th>\n",
       "      <td>Russia</td>\n",
       "      <td>3,631,287</td>\n",
       "      <td>4%</td>\n",
       "      <td>383.2</td>\n",
       "      <td>3.41</td>\n",
       "      <td>0.90</td>\n",
       "      <td>190.56</td>\n",
       "      <td>10,127</td>\n",
       "      <td>2,970</td>\n",
       "      <td>8</td>\n",
       "    </tr>\n",
       "  </tbody>\n",
       "</table>\n",
       "</div>"
      ],
      "text/plain": [
       "          Country Daily Oil Consumption (Barrels) World Share  \\\n",
       "S#                                                              \n",
       "1   United States                      19,687,287         20%   \n",
       "2           China                      12,791,553         13%   \n",
       "3           India                       4,443,000          5%   \n",
       "4           Japan                       4,012,877          4%   \n",
       "5          Russia                       3,631,287          4%   \n",
       "\n",
       "    Yearly Gallons Per Capita  Price Per Gallon (USD)  Price Per Liter (USD)  \\\n",
       "S#                                                                             \n",
       "1                       934.3                    5.19                   1.37   \n",
       "2                       138.7                    5.42                   1.43   \n",
       "3                        51.4                    5.05                   1.33   \n",
       "4                       481.5                    4.69                   1.24   \n",
       "5                       383.2                    3.41                   0.90   \n",
       "\n",
       "    Price Per Liter (PKR) GDP Per Capita ( USD )  \\\n",
       "S#                                                 \n",
       "1                  289.97                 63,414   \n",
       "2                  302.87                 10,435   \n",
       "3                  281.93                  1,901   \n",
       "4                  262.05                 40,193   \n",
       "5                  190.56                 10,127   \n",
       "\n",
       "   Gallons GDP Per Capita Can Buy  xTimes Yearly Gallons Per Capita Buy  \n",
       "S#                                                                       \n",
       "1                          12,218                                    13  \n",
       "2                           1,925                                    14  \n",
       "3                             376                                     7  \n",
       "4                           8,570                                    18  \n",
       "5                           2,970                                     8  "
      ]
     },
     "execution_count": 3,
     "metadata": {},
     "output_type": "execute_result"
    }
   ],
   "source": [
    "data.head()"
   ]
  },
  {
   "cell_type": "markdown",
   "id": "6eb56cfd",
   "metadata": {
    "papermill": {
     "duration": 0.003183,
     "end_time": "2022-07-18T00:30:43.374182",
     "exception": false,
     "start_time": "2022-07-18T00:30:43.370999",
     "status": "completed"
    },
    "tags": []
   },
   "source": [
    "# Analyze\n",
    "## Daily Oil Consumption(Barrels)\n",
    "Analyze the daily usage of oil/petrol in any country specified.\n",
    "If the daily oil consumption is greater than 10,000,000 then, it is a lot of oil consumption.\n",
    "Anything below is either a low or medium intake!\n",
    "\n",
    "I will use some code from one of my previous notebook: "
   ]
  },
  {
   "cell_type": "code",
   "execution_count": 4,
   "id": "5fb3da14",
   "metadata": {
    "execution": {
     "iopub.execute_input": "2022-07-18T00:30:43.382975Z",
     "iopub.status.busy": "2022-07-18T00:30:43.382254Z",
     "iopub.status.idle": "2022-07-18T00:30:43.394021Z",
     "shell.execute_reply": "2022-07-18T00:30:43.392807Z"
    },
    "papermill": {
     "duration": 0.019089,
     "end_time": "2022-07-18T00:30:43.396589",
     "exception": false,
     "start_time": "2022-07-18T00:30:43.377500",
     "status": "completed"
    },
    "tags": []
   },
   "outputs": [
    {
     "name": "stdout",
     "output_type": "stream",
     "text": [
      "19,687,287    1\n",
      "Name: Daily Oil Consumption (Barrels), dtype: int64\n",
      "43,000    1\n",
      "Name: Daily Oil Consumption (Barrels), dtype: int64\n",
      "4,012,877    1\n",
      "Name: Daily Oil Consumption (Barrels), dtype: int64\n"
     ]
    }
   ],
   "source": [
    "# Oil consumption function\n",
    "def oil_consumption(country):\n",
    "    '''\n",
    "    Will return a response\n",
    "    If over 10,000,000 then it is a lot, if less then small or medium\n",
    "    '''\n",
    "    consumption = data.loc[data[\"Country\"] == country, \"Daily Oil Consumption (Barrels)\"].value_counts()\n",
    "    print(consumption)\n",
    "  \n",
    "# Examples to use this function\n",
    "oil_consumption(\"United States\")\n",
    "oil_consumption(\"Nepal\")\n",
    "oil_consumption(\"Japan\")"
   ]
  },
  {
   "cell_type": "markdown",
   "id": "b59ae56c",
   "metadata": {
    "papermill": {
     "duration": 0.003495,
     "end_time": "2022-07-18T00:30:43.403923",
     "exception": false,
     "start_time": "2022-07-18T00:30:43.400428",
     "status": "completed"
    },
    "tags": []
   },
   "source": [
    "## World Share\n",
    "Analyze the amount of shares a certain country has! If more than 10, It has a lot, else it does not!"
   ]
  },
  {
   "cell_type": "code",
   "execution_count": 5,
   "id": "655e0b7f",
   "metadata": {
    "execution": {
     "iopub.execute_input": "2022-07-18T00:30:43.413833Z",
     "iopub.status.busy": "2022-07-18T00:30:43.413084Z",
     "iopub.status.idle": "2022-07-18T00:30:43.421978Z",
     "shell.execute_reply": "2022-07-18T00:30:43.420652Z"
    },
    "papermill": {
     "duration": 0.017668,
     "end_time": "2022-07-18T00:30:43.425471",
     "exception": false,
     "start_time": "2022-07-18T00:30:43.407803",
     "status": "completed"
    },
    "tags": []
   },
   "outputs": [
    {
     "name": "stdout",
     "output_type": "stream",
     "text": [
      "A lot of shares\n",
      "A lot of shares\n"
     ]
    }
   ],
   "source": [
    "# World Share function\n",
    "def world_shares(country):\n",
    "    shares = data.loc[data[\"Country\"] == country, \"World Share\"].value_counts()\n",
    "    if int(shares) >= 0.1:\n",
    "        print(\"A lot of shares\")\n",
    "    else:\n",
    "        print(\"Not lot\")\n",
    "    \n",
    "world_shares(\"United States\")\n",
    "world_shares(\"China\")"
   ]
  }
 ],
 "metadata": {
  "kernelspec": {
   "display_name": "Python 3",
   "language": "python",
   "name": "python3"
  },
  "language_info": {
   "codemirror_mode": {
    "name": "ipython",
    "version": 3
   },
   "file_extension": ".py",
   "mimetype": "text/x-python",
   "name": "python",
   "nbconvert_exporter": "python",
   "pygments_lexer": "ipython3",
   "version": "3.7.12"
  },
  "papermill": {
   "default_parameters": {},
   "duration": 11.146677,
   "end_time": "2022-07-18T00:30:44.051111",
   "environment_variables": {},
   "exception": null,
   "input_path": "__notebook__.ipynb",
   "output_path": "__notebook__.ipynb",
   "parameters": {},
   "start_time": "2022-07-18T00:30:32.904434",
   "version": "2.3.4"
  }
 },
 "nbformat": 4,
 "nbformat_minor": 5
}
